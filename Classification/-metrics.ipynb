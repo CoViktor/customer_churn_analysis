{
 "cells": [
  {
   "cell_type": "markdown",
   "metadata": {},
   "source": [
    "# Model metrics summaries\n",
    "All metrics were taken after hyperparameter tuning.\n",
    "\n",
    "As the **target variable seemed imbalanced**, the assumption is made that**oversampling through SMOTE** will increase model performance.\n",
    "To test this, performance metrics were logged before and after this implementation.\n",
    "\n",
    "**Disclaimer**: For ease of use, SMOTE was implemented before pipeline creation (`imblearn.over_sampling.SMOTE`). This is reported to sometimes cause slight data leakage. Additional tests should be done on the usage of `imblearn.pipeline`\n",
    "\n",
    "\n",
    "### Evaluation\n",
    "-  **Train & Test Scores**: The accuracy on the training and test sets.\n",
    "-  **ROC AUC**: Area Under the ROC Curve.\n",
    "-  **Classification Report**: This report gives you a breakdown of precision, recall, f1-score, and support for each class.\n",
    "-  **Cross Validation**: An additional layer of validation, confirming that the parameters selected indeed perform well across different subsets of the training data."
   ]
  },
  {
   "cell_type": "markdown",
   "metadata": {},
   "source": [
    "## Logistic regression\n"
   ]
  },
  {
   "cell_type": "markdown",
   "metadata": {},
   "source": [
    "### No SMOTE\n",
    "```\n",
    "Train Score:  0.906\n",
    "Test Score:  0.897\n",
    "ROC_AUC:  0.916\n",
    "                   precision    recall  f1-score   support\n",
    "\n",
    "Attrited Customer       0.76      0.52      0.62       327\n",
    "Existing Customer       0.91      0.97      0.94      1699\n",
    "\n",
    "         accuracy                           0.90      2026\n",
    "        macro avg       0.84      0.75      0.78      2026\n",
    "     weighted avg       0.89      0.90      0.89      2026\n",
    "\n",
    "Mean Test Accuracy: 0.906\n",
    "Mean Train Accuracy: 0.906\n",
    "Mean Fit Time: 0.096\n",
    "Mean Score Time: 0.015\n",
    "\n",
    "```\n"
   ]
  },
  {
   "cell_type": "markdown",
   "metadata": {},
   "source": [
    "### SMOTE\n",
    "```\n",
    "Train Score:  0.853\n",
    "Test Score:  0.858\n",
    "ROC_AUC:  0.914\n",
    "                   precision    recall  f1-score   support\n",
    "\n",
    "Attrited Customer       0.54      0.83      0.65       327\n",
    "Existing Customer       0.96      0.86      0.91      1699\n",
    "\n",
    "         accuracy                           0.86      2026\n",
    "        macro avg       0.75      0.84      0.78      2026\n",
    "     weighted avg       0.89      0.86      0.87      2026\n",
    "\n",
    "Mean Test Accuracy: 0.851\n",
    "Mean Train Accuracy: 0.851\n",
    "Mean Fit Time: 0.147\n",
    "Mean Score Time: 0.011\n",
    "\n",
    "```"
   ]
  },
  {
   "cell_type": "markdown",
   "metadata": {},
   "source": [
    "## Random Forest"
   ]
  },
  {
   "cell_type": "markdown",
   "metadata": {},
   "source": [
    "### no SMOTE\n",
    "```                    \n",
    "Train Score:  1.0\n",
    "Test Score:  0.951\n",
    "ROC_AUC:  0.989\n",
    "                   precision    recall  f1-score   support\n",
    "\n",
    "Attrited Customer       0.93      0.76      0.83       327\n",
    "Existing Customer       0.95      0.99      0.97      1699\n",
    "\n",
    "         accuracy                           0.95      2026\n",
    "        macro avg       0.94      0.87      0.90      2026\n",
    "     weighted avg       0.95      0.95      0.95      2026\n",
    "\n",
    "Mean Test Accuracy: 0.957\n",
    "Mean Train Accuracy: 1.0\n",
    "Mean Fit Time: 4.469\n",
    "Mean Score Time: 0.092\n",
    "\n",
    "\n",
    "```\n"
   ]
  },
  {
   "cell_type": "markdown",
   "metadata": {},
   "source": [
    "### SMOTE\n",
    "```\n",
    "Train Score:  1.0\n",
    "Test Score:  0.956\n",
    "ROC_AUC:  0.987\n",
    "                   precision    recall  f1-score   support\n",
    "\n",
    "Attrited Customer       0.88      0.84      0.86       327\n",
    "Existing Customer       0.97      0.98      0.97      1699\n",
    "\n",
    "         accuracy                           0.96      2026\n",
    "        macro avg       0.92      0.91      0.92      2026\n",
    "     weighted avg       0.96      0.96      0.96      2026\n",
    "\n",
    "Mean Test Accuracy: 0.957\n",
    "Mean Train Accuracy: 1.0\n",
    "Mean Fit Time: 6.593\n",
    "Mean Score Time: 0.076\n",
    "\n",
    "```"
   ]
  },
  {
   "cell_type": "markdown",
   "metadata": {},
   "source": [
    "## AdaBoost"
   ]
  },
  {
   "cell_type": "markdown",
   "metadata": {},
   "source": [
    "### no SMOTE\n",
    "```                    \n",
    "Train Score:  0.971\n",
    "Test Score:  0.958\n",
    "ROC_AUC:  0.986\n",
    "                   precision    recall  f1-score   support\n",
    "\n",
    "Attrited Customer       0.90      0.83      0.86       327\n",
    "Existing Customer       0.97      0.98      0.97      1699\n",
    "\n",
    "         accuracy                           0.96      2026\n",
    "        macro avg       0.93      0.91      0.92      2026\n",
    "     weighted avg       0.96      0.96      0.96      2026\n",
    "    \n",
    "Mean Test Accuracy: 0.963\n",
    "Mean Train Accuracy: 0.971\n",
    "Mean Fit Time: 1.784\n",
    "Mean Score Time: 0.047\n",
    "\n",
    "```"
   ]
  },
  {
   "cell_type": "markdown",
   "metadata": {},
   "source": [
    "### SMOTE\n",
    "```\n",
    "Train Score:  0.968\n",
    "Test Score:  0.958\n",
    "ROC_AUC:  0.985\n",
    "                   precision    recall  f1-score   support\n",
    "\n",
    "Attrited Customer       0.86      0.88      0.87       327\n",
    "Existing Customer       0.98      0.97      0.97      1699\n",
    "\n",
    "         accuracy                           0.96      2026\n",
    "        macro avg       0.92      0.93      0.92      2026\n",
    "     weighted avg       0.96      0.96      0.96      2026\n",
    "\n",
    "Mean Test Accuracy: 0.958\n",
    "Mean Train Accuracy: 0.97\n",
    "Mean Fit Time: 8.957\n",
    "Mean Score Time: 0.088\n",
    "\n",
    "```"
   ]
  },
  {
   "cell_type": "markdown",
   "metadata": {},
   "source": [
    "## K-Nearest Neighbours"
   ]
  },
  {
   "cell_type": "markdown",
   "metadata": {},
   "source": [
    "### no SMOTE\n",
    "```                    \n",
    "Train Score:  1.0\n",
    "Test Score:  0.906\n",
    "ROC_AUC:  0.925\n",
    "                   precision    recall  f1-score   support\n",
    "\n",
    "Attrited Customer       0.83      0.52      0.64       327\n",
    "Existing Customer       0.91      0.98      0.95      1699\n",
    "\n",
    "         accuracy                           0.91      2026\n",
    "        macro avg       0.87      0.75      0.79      2026\n",
    "     weighted avg       0.90      0.91      0.90      2026\n",
    "\n",
    "Mean Test Accuracy: 0.911\n",
    "Mean Train Accuracy: 1.0\n",
    "Mean Fit Time: 0.075\n",
    "Mean Score Time: 0.09\n",
    "\n",
    "```\n"
   ]
  },
  {
   "cell_type": "markdown",
   "metadata": {},
   "source": [
    "### SMOTE\n",
    "```\n",
    "Train Score:  0.941\n",
    "Test Score:  0.853\n",
    "ROC_AUC:  0.882\n",
    "                   precision    recall  f1-score   support\n",
    "\n",
    "Attrited Customer       0.53      0.81      0.64       327\n",
    "Existing Customer       0.96      0.86      0.91      1699\n",
    "\n",
    "         accuracy                           0.85      2026\n",
    "        macro avg       0.74      0.84      0.77      2026\n",
    "     weighted avg       0.89      0.85      0.86      2026\n",
    "\n",
    "Mean Test Accuracy: 0.863\n",
    "Mean Train Accuracy: 0.939\n",
    "Mean Fit Time: 0.126\n",
    "Mean Score Time: 0.104\n",
    "\n",
    "```"
   ]
  },
  {
   "cell_type": "markdown",
   "metadata": {},
   "source": [
    "## Decision Tree"
   ]
  },
  {
   "cell_type": "markdown",
   "metadata": {},
   "source": [
    "### no SMOTE\n",
    "```                    \n",
    "Train Score:  0.967\n",
    "Test Score:  0.938\n",
    "ROC_AUC:  0.93\n",
    "                   precision    recall  f1-score   support\n",
    "\n",
    "Attrited Customer       0.81      0.80      0.81       327\n",
    "Existing Customer       0.96      0.96      0.96      1699\n",
    "\n",
    "         accuracy                           0.94      2026\n",
    "        macro avg       0.89      0.88      0.88      2026\n",
    "     weighted avg       0.94      0.94      0.94      2026\n",
    "\n",
    "Mean Test Accuracy: 0.939\n",
    "Mean Train Accuracy: 0.969\n",
    "Mean Fit Time: 0.09\n",
    "Mean Score Time: 0.011\n",
    "\n",
    "```"
   ]
  },
  {
   "cell_type": "markdown",
   "metadata": {},
   "source": [
    "### SMOTE\n",
    "```\n",
    "Train Score:  0.97\n",
    "Test Score:  0.92\n",
    "ROC_AUC:  0.923\n",
    "                   precision    recall  f1-score   support\n",
    "\n",
    "Attrited Customer       0.71      0.84      0.77       327\n",
    "Existing Customer       0.97      0.93      0.95      1699\n",
    "\n",
    "         accuracy                           0.92      2026\n",
    "        macro avg       0.84      0.89      0.86      2026\n",
    "     weighted avg       0.93      0.92      0.92      2026\n",
    "\n",
    "Mean Test Accuracy: 0.929\n",
    "Mean Train Accuracy: 0.972\n",
    "Mean Fit Time: 0.363\n",
    "Mean Score Time: 0.012\n",
    "\n",
    "```"
   ]
  },
  {
   "cell_type": "markdown",
   "metadata": {},
   "source": [
    "## Gradient Boost"
   ]
  },
  {
   "cell_type": "markdown",
   "metadata": {},
   "source": [
    "### no SMOTE\n",
    "```                    \n",
    "Train Score:  1.0\n",
    "Test Score:  0.968\n",
    "ROC_AUC:  0.992\n",
    "                   precision    recall  f1-score   support\n",
    "\n",
    "Attrited Customer       0.93      0.87      0.90       327\n",
    "Existing Customer       0.98      0.99      0.98      1699\n",
    "\n",
    "         accuracy                           0.97      2026\n",
    "        macro avg       0.95      0.93      0.94      2026\n",
    "     weighted avg       0.97      0.97      0.97      2026\n",
    "\n",
    "Mean Test Accuracy: 0.974\n",
    "Mean Train Accuracy: 1.0\n",
    "Mean Fit Time: 13.788\n",
    "Mean Score Time: 0.025\n",
    "\n",
    "```\n"
   ]
  },
  {
   "cell_type": "markdown",
   "metadata": {},
   "source": [
    "### SMOTE\n",
    "```\n",
    "train_score:  0.966\n",
    "test_score:  0.96\n",
    "ROC_AUC:  0.988\n",
    "                   precision    recall  f1-score   support\n",
    "\n",
    "Attrited Customer       0.86      0.89      0.88       327\n",
    "Existing Customer       0.98      0.97      0.98      1699\n",
    "\n",
    "         accuracy                           0.96      2026\n",
    "        macro avg       0.92      0.93      0.93      2026\n",
    "     weighted avg       0.96      0.96      0.96      2026\n",
    "\n",
    "Mean Test Accuracy: 0.957\n",
    "Mean Train Accuracy: 0.968\n",
    "Mean Fit Time: 4.899\n",
    "Mean Score Time: 0.015\n",
    "\n",
    "```"
   ]
  },
  {
   "cell_type": "markdown",
   "metadata": {},
   "source": [
    "# Model Performance graph"
   ]
  },
  {
   "cell_type": "code",
   "execution_count": null,
   "metadata": {},
   "outputs": [],
   "source": [
    "# logreg no preprocessing\n",
    "R2 = 0.89\n",
    "AUC = 0.899\n",
    "F1 = 0.89\n",
    "Accuracy_avg = 0.75\n",
    "Precision_avg = 0.83\n",
    "Recall_avg = 0.71\n",
    "Runtime_avg = 1.4\n",
    "\n",
    "# logreg standard scaler\n",
    "R2 = 0.905\n",
    "AUC = 0.917\n",
    "F1 = 0.9\n",
    "Accuracy_avg = 0.79\n",
    "Precision_avg = 0.84\n",
    "Recall_avg = 0.75\n",
    "Runtime_avg = 0.07\n",
    "\n",
    "# logreg SMOTE\n",
    "\n",
    "\n",
    "# forest standard scaler\n",
    "R2 = 0.905\n",
    "AUC = 0.917\n",
    "F1 = 0.9\n",
    "Accuracy_avg = 0.79\n",
    "Precision_avg = 0.84\n",
    "Recall_avg = 0.75\n",
    "Runtime_avg = 0.07\n",
    "\n",
    "# "
   ]
  }
 ],
 "metadata": {
  "kernelspec": {
   "display_name": "Python 3",
   "language": "python",
   "name": "python3"
  },
  "language_info": {
   "codemirror_mode": {
    "name": "ipython",
    "version": 3
   },
   "file_extension": ".py",
   "mimetype": "text/x-python",
   "name": "python",
   "nbconvert_exporter": "python",
   "pygments_lexer": "ipython3",
   "version": "3.11.4"
  }
 },
 "nbformat": 4,
 "nbformat_minor": 2
}
